{
 "cells": [
  {
   "cell_type": "markdown",
   "id": "eb84d1aa",
   "metadata": {},
   "source": [
    "## Import the module"
   ]
  },
  {
   "cell_type": "code",
   "execution_count": null,
   "id": "67c64195",
   "metadata": {},
   "outputs": [],
   "source": [
    "import pandas as pd"
   ]
  },
  {
   "cell_type": "markdown",
   "id": "b21594b6",
   "metadata": {},
   "source": [
    "## Load the csv file into pandas dataframe"
   ]
  },
  {
   "cell_type": "code",
   "execution_count": null,
   "id": "d08adb8d",
   "metadata": {
    "scrolled": true
   },
   "outputs": [],
   "source": [
    "data = pd.read_csv(r\"C:\\Users\\Welcome\\Downloads\\HousingDataset (2).csv\", engine='python')\n",
    "data.head()"
   ]
  },
  {
   "cell_type": "markdown",
   "id": "b3e60097",
   "metadata": {},
   "source": [
    "# Section 1"
   ]
  },
  {
   "cell_type": "markdown",
   "id": "9fdbe1cd",
   "metadata": {},
   "source": [
    "## Environment setup and data cleaning"
   ]
  },
  {
   "cell_type": "code",
   "execution_count": null,
   "id": "a4970247",
   "metadata": {},
   "outputs": [],
   "source": [
    "# shape: Return a tuple representing the dimensionality of the DataFrame.\n",
    "data.shape"
   ]
  },
  {
   "cell_type": "code",
   "execution_count": null,
   "id": "67051e30",
   "metadata": {},
   "outputs": [],
   "source": [
    "# info: Print a concise summary of a DataFrame.\n",
    "data.info()"
   ]
  },
  {
   "cell_type": "code",
   "execution_count": null,
   "id": "c37ee181",
   "metadata": {
    "scrolled": false
   },
   "outputs": [],
   "source": [
    "# describe: Generate descriptive statistics.\n",
    "data.describe()"
   ]
  },
  {
   "cell_type": "code",
   "execution_count": null,
   "id": "a232efa7",
   "metadata": {},
   "outputs": [],
   "source": [
    "# isnull(): Detect missing values.\n",
    "data.isnull().sum()"
   ]
  },
  {
   "cell_type": "raw",
   "id": "0ecd6131",
   "metadata": {},
   "source": [
    "dataset contains many null values"
   ]
  },
  {
   "cell_type": "markdown",
   "id": "0083d401",
   "metadata": {},
   "source": [
    "### 1.1 Identify and remove the following columns:\n",
    "a. ad_type\n",
    "b. title\n",
    "c. description\n",
    "d. l4\n",
    "e. l5\n",
    "f. l6"
   ]
  },
  {
   "cell_type": "code",
   "execution_count": null,
   "id": "36eeb0da",
   "metadata": {},
   "outputs": [],
   "source": [
    "# As instructed we are dropping the columns 'ad_type', 'title', 'description', 'l4', 'l5', and 'l6'\n",
    "# Drop: will drop specified labels from rows or columns.\n",
    "data1 = data.drop(['ad_type','title','description','l4','l5','l6'],axis =1) \n",
    "data1.shape"
   ]
  },
  {
   "cell_type": "markdown",
   "id": "6d7944c4",
   "metadata": {},
   "source": [
    "### 1.2 Investigate and discard all rows that contain Null values in any of these fields:\n",
    "a. lon\n",
    "b. lat\n",
    "c. price_period\n",
    "d. bedrooms\n",
    "e. surface_total\n",
    "f. rooms\n",
    "g. price\n",
    "h. surface_covered"
   ]
  },
  {
   "cell_type": "code",
   "execution_count": null,
   "id": "28ee9f95",
   "metadata": {
    "scrolled": true
   },
   "outputs": [],
   "source": [
    "# Counting the null values in each column of the DataFrame.\n",
    "data1.isnull().sum()"
   ]
  },
  {
   "cell_type": "code",
   "execution_count": null,
   "id": "85fdcd55",
   "metadata": {
    "scrolled": true
   },
   "outputs": [],
   "source": [
    "# we will remove null values using dropna function\n",
    "data2 = data1.dropna(subset=['lon','lat','price_period','bedrooms','surface_total','rooms','price', 'surface_covered'])\n",
    "data2"
   ]
  },
  {
   "cell_type": "code",
   "execution_count": null,
   "id": "67eb0469",
   "metadata": {},
   "outputs": [],
   "source": [
    "data2.isnull().sum()"
   ]
  },
  {
   "cell_type": "raw",
   "id": "38a070db",
   "metadata": {},
   "source": [
    "As we can observe that, most of the null values has been dropped in the dataset"
   ]
  },
  {
   "cell_type": "markdown",
   "id": "bd852215",
   "metadata": {},
   "source": [
    "### 1.3 Separating the DF into 2 Tables, One with property_details and another with property_price_details "
   ]
  },
  {
   "cell_type": "code",
   "execution_count": null,
   "id": "8c8b8b73",
   "metadata": {},
   "outputs": [],
   "source": [
    "property_details_df = data2[['id', 'start_date', 'end_date', 'created_on', 'lat', 'lon', 'l1',\n",
    "                         'l2', 'l3', 'rooms', 'bedrooms', 'bathrooms','surface_total', 'surface_covered'] ]\n",
    "property_details_df.head()"
   ]
  },
  {
   "cell_type": "code",
   "execution_count": null,
   "id": "20c80347",
   "metadata": {},
   "outputs": [],
   "source": [
    "property_price_details_df = data2[['id', 'price', 'currency', 'price_period', 'property_type', 'operation_type']]\n",
    "property_price_details_df.head()"
   ]
  },
  {
   "cell_type": "code",
   "execution_count": null,
   "id": "db004dfb",
   "metadata": {},
   "outputs": [],
   "source": [
    "# pip install pandas sqlalchemy sqlite3"
   ]
  },
  {
   "cell_type": "raw",
   "id": "ee8a51ad",
   "metadata": {},
   "source": [
    "Here we are creating a database by considering above two tables and perform some sql queries on them to get more insights from the dataset"
   ]
  },
  {
   "cell_type": "code",
   "execution_count": null,
   "id": "9d2859c7",
   "metadata": {},
   "outputs": [],
   "source": [
    "# creating a sqlite database \n",
    "from sqlalchemy import create_engine\n",
    "db_path = 'sqlite:///HousingData.db'\n",
    "engine = create_engine(db_path)"
   ]
  },
  {
   "cell_type": "code",
   "execution_count": null,
   "id": "3f7ea51b",
   "metadata": {},
   "outputs": [],
   "source": [
    "# converting dataframe into sql table\n",
    "property_details_df.to_sql('Property_Details', engine, if_exists='replace', index=False)\n",
    "property_price_details_df.to_sql('Property_Price_Details', engine, if_exists='replace', index=False)"
   ]
  },
  {
   "cell_type": "code",
   "execution_count": null,
   "id": "b90b68b2",
   "metadata": {},
   "outputs": [],
   "source": [
    "# To understand better we are printing the schema of both the tables\n",
    "db_path = 'sqlite:///HousingData.db'\n",
    "engine = create_engine(db_path)\n",
    "\n",
    "property_details_schema_query = \"PRAGMA table_info(Property_Details)\"\n",
    "property_details_schema_result = engine.execute(property_details_schema_query)\n",
    "\n",
    "print(\"Schema for Property_Details:\")\n",
    "for row in property_details_schema_result:\n",
    "    print(row)\n",
    "\n",
    "property_price_details_schema_query = \"PRAGMA table_info(Property_Price_Details)\"\n",
    "property_price_details_schema_result = engine.execute(property_price_details_schema_query)\n",
    "\n",
    "print(\"\\nSchema for Property_Price_Details:\")\n",
    "for row in property_price_details_schema_result:\n",
    "    print(row)"
   ]
  },
  {
   "cell_type": "markdown",
   "id": "e4e2e60d",
   "metadata": {},
   "source": [
    "# Section 2"
   ]
  },
  {
   "cell_type": "markdown",
   "id": "f3fcb4b1",
   "metadata": {},
   "source": [
    "## Data Analysis"
   ]
  },
  {
   "cell_type": "markdown",
   "id": "9460bd98",
   "metadata": {},
   "source": [
    "#### • Retrieve properties that have a price greater than 1 million and are located in \"Estados Unidos\" (l1)."
   ]
  },
  {
   "cell_type": "code",
   "execution_count": null,
   "id": "1b49255f",
   "metadata": {
    "scrolled": true
   },
   "outputs": [],
   "source": [
    "query = \"\"\"\n",
    "    SELECT PD.*\n",
    "FROM Property_Details PD\n",
    "JOIN Property_Price_Details PPD ON PD.id = PPD.id\n",
    "WHERE PPD.price > 1000000 AND PD.l1 = 'Estados Unidos';\n",
    "\"\"\"\n",
    "\n",
    "# Execute the query and retrieve the results into a DataFrame\n",
    "with engine.connect() as connection:\n",
    "    results = connection.execute(query)  \n",
    "    # results.keys() is a method to extract the column names from query result\n",
    "    df1 = pd.DataFrame(results.fetchall(), columns=results.keys()) # to retrieve all rows of data from the result set.\n",
    "    \n",
    "# Print the resulting DataFrame\n",
    "print(df1)"
   ]
  },
  {
   "cell_type": "markdown",
   "id": "7f8d6088",
   "metadata": {},
   "source": [
    "#### • Categorize properties based on their surface area as 'Small' if it's less than 50 square meters, 'Medium' if it's between 50 and 100 square meters, and 'Large' if it's greater than 100 square meters"
   ]
  },
  {
   "cell_type": "code",
   "execution_count": null,
   "id": "f23d47b5",
   "metadata": {},
   "outputs": [],
   "source": [
    "query = \"\"\"\n",
    "SELECT *,\n",
    "    CASE\n",
    "        WHEN surface_total < 50 THEN 'Small'\n",
    "        WHEN surface_total >= 50 AND surface_total <= 100 THEN 'Medium'\n",
    "        WHEN surface_total > 100 THEN 'Large'\n",
    "        ELSE 'Unknown'\n",
    "    END AS surface_area_category\n",
    "FROM Property_Details;\n",
    "\"\"\"\n",
    "\n",
    "# Execute the query and retrieve the results into a DataFrame\n",
    "with engine.connect() as connection:\n",
    "    results = connection.execute(query)\n",
    "    df2 = pd.DataFrame(results.fetchall(), columns=results.keys())\n",
    "\n",
    "# Print the resulting DataFrame\n",
    "print(df2)"
   ]
  },
  {
   "cell_type": "markdown",
   "id": "21abf0e4",
   "metadata": {},
   "source": [
    "#### • List all properties (id) in the \"Belgrano\" neighborhood (l3) that have the same number of bedrooms and bathrooms as another property in the dataset"
   ]
  },
  {
   "cell_type": "code",
   "execution_count": null,
   "id": "e896aa18",
   "metadata": {},
   "outputs": [],
   "source": [
    "query = \"\"\"\n",
    "    SELECT DISTINCT P1.id\n",
    "    FROM Property_Details P1\n",
    "    JOIN Property_Details P2\n",
    "    ON P1.bedrooms = P2.bedrooms\n",
    "        AND P1.bathrooms = P2.bathrooms\n",
    "        AND P1.id <> P2.id\n",
    "    WHERE P1.l3 = 'Belgrano';\n",
    "\"\"\"\n",
    "\n",
    "# Execute the query and retrieve the results into a DataFrame\n",
    "with engine.connect() as connection:\n",
    "    results = connection.execute(query)\n",
    "    df3 = pd.DataFrame(results.fetchall(), columns=results.keys())\n",
    "\n",
    "# Print the resulting DataFrame\n",
    "print(df3)"
   ]
  },
  {
   "cell_type": "markdown",
   "id": "9a2652ca",
   "metadata": {},
   "source": [
    "#### • Calculate the average price per square meter (price / surface_total) for each property type (property_type) in the \"Belgrano\" neighborhood (l3)"
   ]
  },
  {
   "cell_type": "code",
   "execution_count": null,
   "id": "028dc5ca",
   "metadata": {},
   "outputs": [],
   "source": [
    "query = \"\"\"\n",
    "    SELECT property_type,\n",
    "       AVG(price / surface_total) AS avg_price_per_sq_meter\n",
    "FROM Property_Details PD\n",
    "JOIN Property_Price_Details PPD ON PD.id = PPD.id\n",
    "WHERE PD.l3 = 'Belgrano'\n",
    "GROUP BY property_type;\n",
    "\"\"\"\n",
    "\n",
    "# Execute the query and retrieve the results into a DataFrame\n",
    "with engine.connect() as connection:\n",
    "    results = connection.execute(query)\n",
    "    df4 = pd.DataFrame(results.fetchall(), columns=results.keys())\n",
    "\n",
    "# Print the resulting DataFrame\n",
    "print(df4)"
   ]
  },
  {
   "cell_type": "markdown",
   "id": "b2720ea6",
   "metadata": {},
   "source": [
    "#### • Identify properties that have a higher price than the average price of properties with the same number of bedrooms and bathrooms."
   ]
  },
  {
   "cell_type": "code",
   "execution_count": null,
   "id": "d7373033",
   "metadata": {},
   "outputs": [],
   "source": [
    "query = \"\"\"\n",
    "    SELECT pd.id, pd.bedrooms, pd.bathrooms, pp.price\n",
    "FROM Property_Details pd\n",
    "INNER JOIN Property_Price_Details pp ON pd.id = pp.id\n",
    "WHERE pp.price > (\n",
    "    SELECT AVG(price) \n",
    "    FROM Property_Price_Details \n",
    "    WHERE bedrooms = pd.bedrooms \n",
    "    AND bathrooms = pd.bathrooms\n",
    ") LIMIT 50;\n",
    "\"\"\"\n",
    "\n",
    "# Execute the query and retrieve the results into a DataFrame\n",
    "with engine.connect() as connection:\n",
    "    results = connection.execute(query)\n",
    "    df5 = pd.DataFrame(results.fetchall(), columns=results.keys())\n",
    "\n",
    "# Print the resulting DataFrame\n",
    "print(\"Since the output is so huge we are restricting to 500 rows\")\n",
    "print(df5)"
   ]
  },
  {
   "cell_type": "markdown",
   "id": "6867a767",
   "metadata": {},
   "source": [
    "#### • Calculate the cumulative price for each property type, ordered by the creation date."
   ]
  },
  {
   "cell_type": "code",
   "execution_count": null,
   "id": "c1365082",
   "metadata": {},
   "outputs": [],
   "source": [
    "query = \"\"\"\n",
    "    SELECT\n",
    "    created_on,\n",
    "    property_type,\n",
    "    price,\n",
    "    SUM(price) OVER (PARTITION BY property_type ORDER BY created_on) AS cumulative_price\n",
    "FROM Property_Details PD\n",
    "JOIN Property_Price_Details PPD ON PD.id = PPD.id\n",
    "ORDER BY created_on;\n",
    "\"\"\"\n",
    "\n",
    "# Execute the query and retrieve the results into a DataFrame\n",
    "with engine.connect() as connection:\n",
    "    results = connection.execute(query)\n",
    "    df6 = pd.DataFrame(results.fetchall(), columns=results.keys())\n",
    "\n",
    "# Print the resulting DataFrame\n",
    "print(df6)"
   ]
  },
  {
   "cell_type": "markdown",
   "id": "cd8a13ea",
   "metadata": {},
   "source": [
    "#### • Identify the 10 locations (l3) with the highest total surface area (sum of surface_total) of properties listed for sale (operation_type = 'Venta'):"
   ]
  },
  {
   "cell_type": "code",
   "execution_count": null,
   "id": "03bbcb21",
   "metadata": {},
   "outputs": [],
   "source": [
    "query = \"\"\"\n",
    "    SELECT l3,\n",
    "       SUM(surface_total) AS total_surface_area\n",
    "FROM Property_Details PD\n",
    "JOIN Property_Price_Details PPD ON PD.id = PPD.id\n",
    "WHERE PPD.operation_type = 'Venta'\n",
    "GROUP BY l3\n",
    "ORDER BY total_surface_area DESC\n",
    "LIMIT 10;\n",
    "\"\"\"\n",
    "\n",
    "# Execute the query and retrieve the results into a DataFrame\n",
    "with engine.connect() as connection:\n",
    "    results = connection.execute(query)\n",
    "    df7 = pd.DataFrame(results.fetchall(), columns=results.keys())\n",
    "\n",
    "# Print the resulting DataFrame\n",
    "print(df7)"
   ]
  },
  {
   "cell_type": "markdown",
   "id": "0f6c434a",
   "metadata": {},
   "source": [
    "#### • Find the top 5 most expensive properties (based on price) in the \"Palermo\" neighborhood (l3) that were listed in August 2020:"
   ]
  },
  {
   "cell_type": "code",
   "execution_count": null,
   "id": "e2dc760d",
   "metadata": {
    "scrolled": true
   },
   "outputs": [],
   "source": [
    "query = \"\"\"\n",
    "    SELECT PD.id,\n",
    "       PD.id,\n",
    "       PD.l3,\n",
    "       PPD.price,\n",
    "       PD.created_on\n",
    "FROM Property_Details PD\n",
    "JOIN Property_Price_Details PPD ON PD.id = PPD.id\n",
    "WHERE PD.l3 = 'Palermo' \n",
    "  AND strftime('%Y-%m', PD.start_date) = '2020-08'\n",
    "ORDER BY PPD.price DESC\n",
    "LIMIT 5;\n",
    "\"\"\"\n",
    "\n",
    "# Execute the query and retrieve the results into a DataFrame\n",
    "with engine.connect() as connection:\n",
    "    results = connection.execute(query)\n",
    "    df8 = pd.DataFrame(results.fetchall(), columns=results.keys())\n",
    "\n",
    "# Print the resulting DataFrame\n",
    "print(df8)"
   ]
  },
  {
   "cell_type": "markdown",
   "id": "1fc6b3d2",
   "metadata": {},
   "source": [
    "#### • Find the top 3 properties with the highest price per square meter (price divided by surface area) within each property type."
   ]
  },
  {
   "cell_type": "code",
   "execution_count": null,
   "id": "655d7666",
   "metadata": {
    "scrolled": false
   },
   "outputs": [],
   "source": [
    "query = \"\"\"\n",
    "SELECT property_type, \n",
    "       ppd.id AS property_id, \n",
    "       MAX(price) AS price, \n",
    "       MAX(surface_total) AS surface_total, \n",
    "       MAX(price / surface_total) AS price_per_square_meter\n",
    "       FROM Property_Price_Details ppd\n",
    "       JOIN Property_Details pd ON ppd.id = pd.id\n",
    "       GROUP BY property_type, property_id\n",
    "       ORDER BY price_per_square_meter DESC\n",
    "       LIMIT 3;\n",
    "\"\"\"\n",
    "\n",
    "# Execute the query and retrieve the results into a DataFrame\n",
    "with engine.connect() as connection:\n",
    "    results = connection.execute(query)\n",
    "    df9 = pd.DataFrame(results.fetchall(), columns=results.keys())\n",
    "\n",
    "# Print the resulting DataFrame\n",
    "print(df9)"
   ]
  },
  {
   "cell_type": "markdown",
   "id": "f9fd2cbf",
   "metadata": {},
   "source": [
    "#### • Find the top 3 locations (l1, l2, l3) with the highest average price per square meter (price / surface_total) for properties listed for sale (operation_type = 'Venta') in the year 2020. Exclude locations with fewer than 10 properties listed for sale in 2020 from the results."
   ]
  },
  {
   "cell_type": "code",
   "execution_count": null,
   "id": "84dbae49",
   "metadata": {},
   "outputs": [],
   "source": [
    "query = \"\"\"\n",
    "SELECT  l1, \n",
    "        l2,\n",
    "        l3, \n",
    "        AVG(price / surface_total) AS average_price_per_square_meter \n",
    "        FROM Property_Price_Details ppd\n",
    "        JOIN Property_Details pd ON ppd.id = pd.id \n",
    "        WHERE operation_type = 'Venta' \n",
    "        AND start_date >= '2020-01-01' AND start_date <= '2020-12-31' \n",
    "        GROUP BY l1, l2, l3 HAVING COUNT(*) >= 10 \n",
    "        ORDER BY average_price_per_square_meter DESC \n",
    "        LIMIT 3;\n",
    "\"\"\"\n",
    "\n",
    "# Execute the query and retrieve the results into a DataFrame\n",
    "with engine.connect() as connection:\n",
    "    results = connection.execute(query)\n",
    "    df10 = pd.DataFrame(results.fetchall(), columns=results.keys())\n",
    "\n",
    "# Print the resulting DataFrame\n",
    "print(df10)"
   ]
  },
  {
   "cell_type": "markdown",
   "id": "a8a0603e",
   "metadata": {},
   "source": [
    "# Section 3 "
   ]
  },
  {
   "cell_type": "markdown",
   "id": "bd2b54c7",
   "metadata": {},
   "source": [
    "## Expose the results in API "
   ]
  },
  {
   "cell_type": "code",
   "execution_count": null,
   "id": "4083e317",
   "metadata": {},
   "outputs": [],
   "source": [
    "# pip install flask,waitress"
   ]
  },
  {
   "cell_type": "code",
   "execution_count": null,
   "id": "cd1aaccd",
   "metadata": {},
   "outputs": [],
   "source": [
    "from flask import Flask, Response, jsonify\n",
    "import pandas as pd\n",
    "from waitress import serve\n",
    "import os,signal\n",
    "\n",
    "app = Flask(__name__)\n",
    "\n",
    "# route handles and responds with a plain text answer\n",
    "@app.route('/', methods=['GET'])\n",
    "def questions():\n",
    "    questions = \"Section-3:\" + \"\\n\\n\"+ \"Expose the results in API for the 10 questions in Section 2 and printing the results as the API response.\"+\"\\n\\n\\n\" + \"How to open url: localhost:8080/question-1 \" + \"\"\"\\n\\n\\nQuestions: \\n\\n\\n• Retrieve properties that have a price greater than 1 million and are located in \"Estados Unidos\" (l1).\\n\\n\n",
    "• Categorize properties based on their surface area as 'Small' if it's less than 50 square meters, 'Medium' if it's\n",
    "between 50 and 100 square meters, and 'Large' if it's greater than 100 square meters:\\n\\n\n",
    "• List all properties (id) in the \"Belgrano\" neighborhood (l3) that have the same number of bedrooms and\n",
    "bathrooms as another property in the dataset:\\n\\n\n",
    "• Calculate the average price per square meter (price / surface_total) for each property type (property_type) in\n",
    "the \"Belgrano\" neighborhood (l3):\\n\\n\n",
    "• Identify properties that have a higher price than the average price of properties with the same number of\n",
    "bedrooms and bathrooms.\\n\\n\n",
    "• Calculate the cumulative price for each property type, ordered by the creation date.\\n\n",
    "• Identify the 10 locations (l3) with the highest total surface area (sum of surface_total) of properties listed for\n",
    "sale (operation_type = 'Venta'):\\n\\n\n",
    "• Find the top 5 most expensive properties (based on price) in the \"Palermo\" neighborhood (l3) that were listed\n",
    "in August 2020:\\n\\n\n",
    "• Find the top 3 properties with the highest price per square meter (price divided by surface area) within each\n",
    "property type.\\n\\n\n",
    "• Find the top 3 locations (l1, l2, l3) with the highest average price per square meter (price / surface_total) for\n",
    "properties listed for sale (operation_type = 'Venta') in the year 2020. Exclude locations with fewer than 10\n",
    "properties listed for sale in 2020 from the results.\"\"\" \n",
    "    return Response(questions, mimetype='text/plain')    # This line sends a plain text response to flask\n",
    "\n",
    "\n",
    "@app.route('/question-1', methods=['GET'])\n",
    "def question_1():\n",
    "    # Convert the DataFrame to a string and return it\n",
    "    q1 = \"Retrieve properties that have a price greater than 1 million and are located in \\\"Estados Unidos\\\" (l1).\"\n",
    "    df1_string = df1.to_string(index=False)    # Converts a DataFrame (df1) into a plain text string without index .\n",
    "    df1_string = q1 + \"\\n\\n\\n\" + df1_string\n",
    "    return Response(df1_string, mimetype='text/plain')    \n",
    "\n",
    "\n",
    "@app.route('/question-2', methods=['GET'])\n",
    "def question_2():\n",
    "    # Convert the DataFrame to a string and return it\n",
    "    q2 = \"Categorize properties based on their surface area as 'Small' if it's less than 50 square meters, 'Medium' if it's between 50 and 100 square meters, and 'Large' if it's greater than 100 square meters.\"\n",
    "    df2_string = q2 + \"\\n\\n\\n\" + \"Since the output dataframe is so huge, we are printing first 50 rows of result\"+\"\\n\\n\\n \" + df2.head(50).to_string(index=False)\n",
    "    return Response(df2_string, mimetype='text/plain')\n",
    "\n",
    "@app.route('/question-3', methods=['GET'])\n",
    "def question_3():\n",
    "    # Convert the DataFrame to a string and return it\n",
    "    q3 = \"• List all properties (id) in the 'Belgrano' neighborhood (l3) that have the same number of bedrooms and bathrooms as another property in the dataset.\"\n",
    "    df3_string = q3 + \"\\n\\n\\n\" + df3.to_string(index=False)\n",
    "    return Response(df3_string, mimetype='text/plain')\n",
    "\n",
    "@app.route('/question-4', methods=['GET'])\n",
    "def question_4():\n",
    "    # Convert the DataFrame to a string and return it\n",
    "    q4 = \"• Calculate the average price per square meter (price / surface_total) for each property type (property_type) in the 'Belgrano' neighborhood (l3).\"\n",
    "    df4_string = q4 + \"\\n\\n\\n\" + df4.to_string(index=False)\n",
    "    return Response(df4_string, mimetype='text/plain')\n",
    "\n",
    "@app.route('/question-5', methods=['GET'])\n",
    "def question_5():\n",
    "    # Convert the DataFrame to a string and return it\n",
    "    q5 = \"• Identify properties that have a higher price than the average price of properties with the same number of bedrooms and bathrooms.\"\n",
    "    df5_string = q5 + \"\\n\\n\\n\" + \"Since the output dataframe is so huge, we are printing first 50 rows of result \" + \"\\n\\n\\n\" + df5.head(50).to_string(index=False)\n",
    "    return Response(df5_string, mimetype='text/plain')\n",
    "\n",
    "@app.route('/question-6', methods=['GET'])\n",
    "def question_6():\n",
    "    # Convert the DataFrame to a string and return it\n",
    "    q6 = \"• Calculate the cumulative price for each property type, ordered by the creation date.\"\n",
    "    df6_string = q6 + \"\\n\\n\\n\" + \"Since the output dataframe is so huge, we are printing first 50 rows of result \" + \"\\n\\n\\n\"+ df6.head(50).to_string(index=False)\n",
    "    return Response(df6_string, mimetype='text/plain')\n",
    "\n",
    "@app.route('/question-7', methods=['GET'])\n",
    "def question_7():\n",
    "    # Convert the DataFrame to a string and return it\n",
    "    q7 = \"• Identify the 10 locations (l3) with the highest total surface area (sum of surface_total) of properties listed for sale (operation_type = 'Venta'):\"\n",
    "    df7_string = q7 + \"\\n\\n\\n\" + df7.to_string(index=False)\n",
    "    return Response(df7_string, mimetype='text/plain')\n",
    "\n",
    "@app.route('/question-8', methods=['GET'])\n",
    "def question_8():\n",
    "    # Convert the DataFrame to a string and return it\n",
    "    q8 = \"• Find the top 5 most expensive properties (based on price) in the 'Palermo' neighborhood (l3) that were listed in August 2020:\"\n",
    "    df8_string = q8 + \"\\n\\n\\n\" + df8.to_string(index=False)\n",
    "    return Response(df8_string, mimetype='text/plain')\n",
    "\n",
    "@app.route('/question-9', methods=['GET'])\n",
    "def question_9():\n",
    "    # Convert the DataFrame to a string and return it\n",
    "    q9 = \"• Find the top 3 properties with the highest price per square meter (price divided by surface area) within each property type.\"\n",
    "    df9_string = q9 + \"\\n\\n\\n\" + df9.to_string(index=False)\n",
    "    return Response(df9_string, mimetype='text/plain')\n",
    "\n",
    "@app.route('/question-10', methods=['GET'])\n",
    "def question_10():\n",
    "    # Convert the DataFrame to a string and return it\n",
    "    q10 = \"• Find the top 3 locations (l1, l2, l3) with the highest average price per square meter (price / surface_total) for properties listed for sale (operation_type = 'Venta') in the year 2020. Exclude locations with fewer than 10 properties listed for sale in 2020 from the results.\"\n",
    "    df10_string = q10 + \"\\n\\n\\n\" + df10.to_string(index=False)\n",
    "    return Response(df10_string, mimetype='text/plain')\n",
    "\n",
    "# 404 error (page not found). \n",
    "@app.errorhandler(404)\n",
    "def page_not_found(error):\n",
    "    return jsonify({'error': 'Invalid Question Number'}), 404\n",
    "\n",
    "# 500 Internal Server Error: This error handler can handle unexpected errors that occur on the server.\n",
    "@app.errorhandler(500)\n",
    "def internal_server_error(error):\n",
    "    return jsonify({'error': 'Internal Server Error'}), 500\n",
    "\n",
    "@app.route('/shutdown', methods=['GET'])\n",
    "def shutdown_server():\n",
    "    print(\"Shutting down server...\")\n",
    "    app.logger.info(\"shut\")\n",
    "    os.kill(os.getpid(), signal.SIGINT)  # Send a SIGINT signal to gracefully stop the server\n",
    "    return 'Server shutting down...'\n",
    "\n",
    "if __name__ == '__main__':\n",
    "    print(\"Server started\")\n",
    "    serve(app,host='127.0.0.1', port=8080)"
   ]
  },
  {
   "cell_type": "code",
   "execution_count": null,
   "id": "3daba26e",
   "metadata": {},
   "outputs": [],
   "source": [
    "# Need to add content related to ngrok though im not using it"
   ]
  },
  {
   "cell_type": "code",
   "execution_count": null,
   "id": "6e8e2da4",
   "metadata": {},
   "outputs": [],
   "source": []
  }
 ],
 "metadata": {
  "kernelspec": {
   "display_name": "Python 3 (ipykernel)",
   "language": "python",
   "name": "python3"
  },
  "language_info": {
   "codemirror_mode": {
    "name": "ipython",
    "version": 3
   },
   "file_extension": ".py",
   "mimetype": "text/x-python",
   "name": "python",
   "nbconvert_exporter": "python",
   "pygments_lexer": "ipython3",
   "version": "3.10.9"
  }
 },
 "nbformat": 4,
 "nbformat_minor": 5
}
